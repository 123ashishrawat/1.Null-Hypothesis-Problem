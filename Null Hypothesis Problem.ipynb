{
 "cells": [
  {
   "cell_type": "code",
   "execution_count": 3,
   "id": "9ff065ed",
   "metadata": {},
   "outputs": [],
   "source": [
    "import scipy.stats as stats\n"
   ]
  },
  {
   "cell_type": "code",
   "execution_count": 9,
   "id": "d2244cff",
   "metadata": {},
   "outputs": [],
   "source": [
    "# Given values\n",
    "x_bar = 260     # Sample mean\n",
    "mu = 270        # Population mean under the null hypothesis\n",
    "s = 90          # Sample standard deviation\n",
    "n = 18          # Sample size\n",
    "df = n - 1      # Degrees of freedom"
   ]
  },
  {
   "cell_type": "code",
   "execution_count": 10,
   "id": "4ae88aa3",
   "metadata": {},
   "outputs": [],
   "source": [
    "# Define the null and alternative hypotheses\n",
    "# Null Hypothesis (H0): The CEO's claim is true, and the population mean is 270 days.\n",
    "# Alternative Hypothesis (Ha): The CEO's claim is not true, and the population mean is less than 270 days."
   ]
  },
  {
   "cell_type": "code",
   "execution_count": 11,
   "id": "e89217b0",
   "metadata": {},
   "outputs": [],
   "source": [
    "# Calculate the t-score\n",
    "t_score = (x_bar - mu) / (s / (n**0.5))"
   ]
  },
  {
   "cell_type": "code",
   "execution_count": 12,
   "id": "e48031a9",
   "metadata": {},
   "outputs": [],
   "source": [
    "# Calculate the p-value\n",
    "p_value = 1 - stats.t.cdf(t_score, df)  # Use 1 - CDF for a one-sided test"
   ]
  },
  {
   "cell_type": "code",
   "execution_count": 13,
   "id": "1ed8afe3",
   "metadata": {},
   "outputs": [],
   "source": [
    "# Set the significance level (alpha)\n",
    "alpha = 0.05"
   ]
  },
  {
   "cell_type": "code",
   "execution_count": 14,
   "id": "791c8ca5",
   "metadata": {},
   "outputs": [
    {
     "name": "stdout",
     "output_type": "stream",
     "text": [
      "Null Hypothesis (H0): The CEO's claim is that the average life of bulbs is 270 days.\n",
      "Alternative Hypothesis (Ha): The CEO's claim is not true, and the average life is less than 270 days.\n",
      "The p-value is approximately 0.6783\n",
      "Decision: Accept the null hypothesis\n"
     ]
    }
   ],
   "source": [
    "# Print the result and decision\n",
    "print(f\"Null Hypothesis (H0): The CEO's claim is that the average life of bulbs is 270 days.\")\n",
    "print(f\"Alternative Hypothesis (Ha): The CEO's claim is not true, and the average life is less than 270 days.\")\n",
    "print(f\"The p-value is approximately {p_value:.4f}\")\n",
    "if p_value <= alpha:\n",
    "    print(\"Decision: Reject the null hypothesis\")\n",
    "else:\n",
    "    print(\"Decision: Accept the null hypothesis\")"
   ]
  },
  {
   "cell_type": "code",
   "execution_count": 15,
   "id": "309e06d7",
   "metadata": {},
   "outputs": [
    {
     "data": {
      "text/plain": [
       "-0.4714045207910317"
      ]
     },
     "execution_count": 15,
     "metadata": {},
     "output_type": "execute_result"
    }
   ],
   "source": [
    "t_score "
   ]
  },
  {
   "cell_type": "code",
   "execution_count": 16,
   "id": "49700196",
   "metadata": {},
   "outputs": [
    {
     "data": {
      "text/plain": [
       "0.6783274643290164"
      ]
     },
     "execution_count": 16,
     "metadata": {},
     "output_type": "execute_result"
    }
   ],
   "source": [
    "p_value"
   ]
  },
  {
   "cell_type": "code",
   "execution_count": null,
   "id": "2c481225",
   "metadata": {},
   "outputs": [],
   "source": []
  }
 ],
 "metadata": {
  "kernelspec": {
   "display_name": "Python 3 (ipykernel)",
   "language": "python",
   "name": "python3"
  },
  "language_info": {
   "codemirror_mode": {
    "name": "ipython",
    "version": 3
   },
   "file_extension": ".py",
   "mimetype": "text/x-python",
   "name": "python",
   "nbconvert_exporter": "python",
   "pygments_lexer": "ipython3",
   "version": "3.9.13"
  }
 },
 "nbformat": 4,
 "nbformat_minor": 5
}
